{
 "cells": [
  {
   "cell_type": "code",
   "execution_count": 1,
   "metadata": {},
   "outputs": [],
   "source": [
    "import numpy as np\n",
    "import pandas as pd\n",
    "import geopandas as gpd\n",
    "import matplotlib.pyplot as plt\n",
    "import seaborn as sns\n",
    "%matplotlib inline\n",
    "plt.style.use(\"ggplot\")\n",
    "\n",
    "import shapely"
   ]
  },
  {
   "cell_type": "code",
   "execution_count": 2,
   "metadata": {},
   "outputs": [],
   "source": [
    "blk_shape = gpd.read_file(\"shapefiles/tabblock2010_37_pophu.shp\")\n",
    "cd112 = pd.read_csv(\"BlockAssign_ST37_NC_CD.txt\")\n",
    "cd113 = pd.read_csv(\"shapefiles/37_NC_CD113.txt\")\n",
    "cd115 = pd.read_csv(\"shapefiles/37_NC_CD115.txt\")"
   ]
  },
  {
   "cell_type": "code",
   "execution_count": 3,
   "metadata": {},
   "outputs": [],
   "source": [
    "cd112[\"CD112\"] = cd112[\"DISTRICT\"]\n",
    "cd112.drop(columns=\"DISTRICT\", inplace=True)"
   ]
  },
  {
   "cell_type": "code",
   "execution_count": 4,
   "metadata": {},
   "outputs": [],
   "source": [
    "blk_shape[\"BLOCKID\"] = pd.to_numeric(blk_shape[\"BLOCKID10\"])"
   ]
  },
  {
   "cell_type": "code",
   "execution_count": 5,
   "metadata": {},
   "outputs": [],
   "source": [
    "df = blk_shape.copy()\n",
    "df.crs = blk_shape.crs\n",
    "df = pd.merge(df, cd113, on=\"BLOCKID\", how=\"left\")\n",
    "df.drop(columns=[\"BLOCKID10\", \"PARTFLG\", \"HOUSING10\"], inplace=True)\n",
    "df = pd.merge(df, cd115, on=\"BLOCKID\", how=\"left\")\n",
    "df = pd.merge(df, cd112, on=\"BLOCKID\", how=\"left\")"
   ]
  },
  {
   "cell_type": "code",
   "execution_count": 6,
   "metadata": {},
   "outputs": [],
   "source": [
    "nc_proj = \"+proj=lcc +lat_1=34.33333333333334 +lat_2=36.16666666666666 +lat_0=33.75 +lon_0=-79 +x_0=609601.2199999999 +y_0=0 +ellps=GRS80 +datum=NAD83 +to_meter=0.3048006096012192 +no_defs \"\n",
    "df.to_crs(nc_proj, inplace=True)"
   ]
  },
  {
   "cell_type": "code",
   "execution_count": 7,
   "metadata": {},
   "outputs": [],
   "source": [
    "df[\"centroid\"] = df[\"geometry\"].centroid"
   ]
  },
  {
   "cell_type": "code",
   "execution_count": 8,
   "metadata": {},
   "outputs": [],
   "source": [
    "df['x'] = [p.x for p in df[\"centroid\"]]\n",
    "df['y'] = [p.y for p in df[\"centroid\"]]\n",
    "\n",
    "norm = max(df['x']) - min(df['x'])\n",
    "df['x'] /= norm\n",
    "df['y'] /= norm\n",
    "df['x'] -= min(df['x'])\n",
    "df['y'] -= min(df['y'])\n",
    "\n",
    "# normalized to 0-1 on x-axis, preserving scale between x and y"
   ]
  },
  {
   "cell_type": "code",
   "execution_count": 13,
   "metadata": {},
   "outputs": [],
   "source": [
    "df = df[[\"STATEFP10\", \"COUNTYFP10\", \"TRACTCE10\", \"BLOCKCE\", \"geometry\", \"POP10\", \"CD112\", \"CD113\", \"CD115\"]]"
   ]
  },
  {
   "cell_type": "code",
   "execution_count": null,
   "metadata": {},
   "outputs": [],
   "source": [
    "df.to_file(\"data_full.shp\")"
   ]
  },
  {
   "cell_type": "code",
   "execution_count": null,
   "metadata": {},
   "outputs": [],
   "source": []
  }
 ],
 "metadata": {
  "kernelspec": {
   "display_name": "Python 3",
   "language": "python",
   "name": "python3"
  },
  "language_info": {
   "codemirror_mode": {
    "name": "ipython",
    "version": 3
   },
   "file_extension": ".py",
   "mimetype": "text/x-python",
   "name": "python",
   "nbconvert_exporter": "python",
   "pygments_lexer": "ipython3",
   "version": "3.6.2"
  }
 },
 "nbformat": 4,
 "nbformat_minor": 2
}
